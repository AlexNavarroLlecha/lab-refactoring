{
 "cells": [
  {
   "cell_type": "code",
   "execution_count": 1,
   "metadata": {},
   "outputs": [
    {
     "ename": "SyntaxError",
     "evalue": "invalid syntax (<ipython-input-1-6a125e1e749c>, line 1)",
     "output_type": "error",
     "traceback": [
      "\u001b[0;36m  File \u001b[0;32m\"<ipython-input-1-6a125e1e749c>\"\u001b[0;36m, line \u001b[0;32m1\u001b[0m\n\u001b[0;31m    Idea:\u001b[0m\n\u001b[0m         ^\u001b[0m\n\u001b[0;31mSyntaxError\u001b[0m\u001b[0;31m:\u001b[0m invalid syntax\n"
     ]
    }
   ],
   "source": [
    "Idea:\n",
    "   # cantidad del jugador(limite de entre 20 y 500)\n",
    "    #las apuestas de cada uno: jugador y dealer\n",
    "    #random de cartas baraja= total de 4*24\n",
    "    #la mano del jugador y del dealer\n",
    "    #player bet in this round,say dealer bets de same (multiply by 2 de bet)\n",
    "    #do the show the cards of player and dealer just 1 bi set[0]\n",
    "    #\n",
    "    #comparacion de resultado: si j>21:out/ si \n",
    "    #preguntar si quiere otra carta o no\n",
    "    #compara resultado de ambos haciendo suma de los valores\n",
    "    #si gana por 21 o mas que el dealer, sumar la bet actual a su salario"
   ]
  },
  {
   "cell_type": "code",
   "execution_count": null,
   "metadata": {},
   "outputs": [],
   "source": [
    "#welcome message\n",
    "print(\"Welcome to Blackjack\")"
   ]
  },
  {
   "cell_type": "code",
   "execution_count": null,
   "metadata": {},
   "outputs": [],
   "source": [
    "#Rule\n",
    "print(\"You are going to play againts the dealer and each round you are going to bet the amount you want until you do not have more money or the dealer has lose it everything. Be careful, you win whit a Blackjack(21) or a hand higher than the dealer one.\")"
   ]
  },
  {
   "cell_type": "code",
   "execution_count": 2,
   "metadata": {},
   "outputs": [],
   "source": [
    "import random "
   ]
  },
  {
   "cell_type": "code",
   "execution_count": 68,
   "metadata": {},
   "outputs": [
    {
     "ename": "IndentationError",
     "evalue": "expected an indented block (<ipython-input-68-407a0c135cca>, line 4)",
     "output_type": "error",
     "traceback": [
      "\u001b[0;36m  File \u001b[0;32m\"<ipython-input-68-407a0c135cca>\"\u001b[0;36m, line \u001b[0;32m4\u001b[0m\n\u001b[0;31m    integer = input(f\"How much money do you want to play in the game? The minimum is 20 and maximum is 150.  \")\u001b[0m\n\u001b[0m          ^\u001b[0m\n\u001b[0;31mIndentationError\u001b[0m\u001b[0;31m:\u001b[0m expected an indented block\n"
     ]
    }
   ],
   "source": [
    "#bet from the player and dealer\n",
    "def money_player():\n",
    "    while (True):\n",
    "    integer = input(f\"How much money do you want to play in the game? The minimum is 20 and maximum is 150.  \")\n",
    "    if re.match(\"^[0-1][0-9][0-9]$\",integer) is not None:\n",
    "        money = input(\"Sorry, you quantity is not accepted for playing. The quantity MUST be between 20 and 150. Try again\")\n",
    "    \n",
    "return int(money) \n",
    "\n",
    "money=money_player(money)\n",
    "print(money)\n",
    "    #print(\"Sorry, you quantity is not accepted for playing. The quantity MUST be between 20 and 150. Try again\")\n",
    "    \n",
    "        #money = int(input(\"How much money do you want to play in the game?\"))\n",
    "    \n",
    "#while money>150 or money<20:\n",
    "    \n",
    "    "
   ]
  },
  {
   "cell_type": "markdown",
   "metadata": {},
   "source": [
    "### #bet from the dealer\n",
    "#funcion random. con valor entre 20 y 500"
   ]
  },
  {
   "cell_type": "code",
   "execution_count": 4,
   "metadata": {
    "scrolled": true
   },
   "outputs": [
    {
     "name": "stdout",
     "output_type": "stream",
     "text": [
      "[2, 3] [3, 2]\n"
     ]
    }
   ],
   "source": [
    "deck = [1,2,3,4,5,6,7,8,9,10,10,10,11]*4\n",
    "\n",
    "#hand of player and dealer\n",
    "bet_player=0\n",
    "bet_dealer=0\n",
    "bet_in_table=0\n",
    "\n",
    "def shuffle_card():\n",
    "    hand = []\n",
    "    for x in range(2):\n",
    "        random.shuffle(deck)\n",
    "        card = deck.pop()\n",
    "        hand.append(card)\n",
    "    return hand\n",
    "\n",
    "hand_player = shuffle_card()\n",
    "hand_dealer = shuffle_card()\n",
    "\n",
    "print(hand_player, hand_dealer)"
   ]
  },
  {
   "cell_type": "code",
   "execution_count": 5,
   "metadata": {},
   "outputs": [],
   "source": [
    "#bet of player and dealer\n",
    "def bet_1():\n",
    "    bet=int(input(f\"How much would you like to bet in this round from you ?\"))\n",
    "    while bet>money:\n",
    "        print(\"Sorry you do not have that much in your deposite\")\n",
    "        bet=int(input(f\"How much would you like to bet in this round from your {money} deposite ?\"))\n",
    "    bet_in_table=bet*2\n"
   ]
  },
  {
   "cell_type": "code",
   "execution_count": 6,
   "metadata": {},
   "outputs": [
    {
     "name": "stdout",
     "output_type": "stream",
     "text": [
      "You have a higher hand than the dealer. You won 0.\n"
     ]
    }
   ],
   "source": [
    "#results opcions\n",
    "\n",
    "hand_player=[11,9]\n",
    "hand_dealer=[10,9]\n",
    "bet=0\n",
    "\n",
    "def opcions():\n",
    "    \n",
    "    if sum(hand_player)==21:\n",
    "        print(f\"You win against the dealer with a Blackjack. You win {bet_in_table}\")\n",
    "        #bet_player=bet+bet_in_table\n",
    "        #bet_dealer-=bet\n",
    "    elif sum(hand_dealer)==21:\n",
    "        print(f\"Sorry you did lose {bet}. The dealer got a Blackjack\")\n",
    "        #bet_player-=bet\n",
    "        #bet_dealer=bet+bet_in_table\n",
    "    elif sum(hand_player)>21:\n",
    "        print(f\"Sorry Mate. You busted. You lose {bet}\")\n",
    "        #bet_player-=bet\n",
    "        #bet_dealer=bet+bet_in_table\n",
    "    elif sum(hand_dealer)>21:\n",
    "        print(f\"The dealer busted, lucky you. You win {bet_in_table}\")\n",
    "        #bet_player=bet+bet_in_table\n",
    "        #bet_dealer-=bet\n",
    "    elif sum(hand_player)<sum(hand_dealer):\n",
    "        print(f\"The dealer has won this round. You lose {bet}\")\n",
    "        #bet_player-=bet\n",
    "        #bet_dealer=bet+bet_in_table\n",
    "    elif sum(hand_player)>sum(hand_dealer):\n",
    "        print(f\"You have a higher hand than the dealer. You won {bet_in_table}.\")\n",
    "        #bet_player=bet+bet_in_table\n",
    "        #bet_dealer-=bet\n",
    "    else:\n",
    "        print(\"There has been a tie. Nobody wins\")\n",
    "        #cambiar\n",
    "opcions()   \n",
    "    \n",
    "    "
   ]
  },
  {
   "cell_type": "code",
   "execution_count": 7,
   "metadata": {},
   "outputs": [
    {
     "ename": "SyntaxError",
     "evalue": "invalid syntax (<ipython-input-7-cdc6b99891a1>, line 5)",
     "output_type": "error",
     "traceback": [
      "\u001b[0;36m  File \u001b[0;32m\"<ipython-input-7-cdc6b99891a1>\"\u001b[0;36m, line \u001b[0;32m5\u001b[0m\n\u001b[0;31m    def new-bet():\u001b[0m\n\u001b[0m           ^\u001b[0m\n\u001b[0;31mSyntaxError\u001b[0m\u001b[0;31m:\u001b[0m invalid syntax\n"
     ]
    }
   ],
   "source": [
    "#show cards  \n",
    "print(f\"You have in hand {hand_player} with a total of {sum(hand_player)}\")\n",
    "\n",
    "#new bet\n",
    "def new-bet():\n",
    "    new_bet=int(input(\"Would you like to bet again and increase the amount in the table? \"))\n",
    "    while new_bet<20 or new_bet>50:\n",
    "        print(\"Sorry, we only accept bets between 20 and 50\")\n",
    "        new_bet=int(input(\"Would you like to bet again and increase the amount you win? \"))\n",
    "        \n"
   ]
  },
  {
   "cell_type": "code",
   "execution_count": null,
   "metadata": {},
   "outputs": [],
   "source": []
  },
  {
   "cell_type": "code",
   "execution_count": null,
   "metadata": {},
   "outputs": [],
   "source": []
  },
  {
   "cell_type": "code",
   "execution_count": null,
   "metadata": {},
   "outputs": [],
   "source": []
  },
  {
   "cell_type": "code",
   "execution_count": null,
   "metadata": {},
   "outputs": [],
   "source": []
  },
  {
   "cell_type": "code",
   "execution_count": 100,
   "metadata": {},
   "outputs": [
    {
     "ename": "IndentationError",
     "evalue": "expected an indented block (<ipython-input-100-2b607a970b05>, line 23)",
     "output_type": "error",
     "traceback": [
      "\u001b[0;36m  File \u001b[0;32m\"<ipython-input-100-2b607a970b05>\"\u001b[0;36m, line \u001b[0;32m23\u001b[0m\n\u001b[0;31m    card=deck.pop()\u001b[0m\n\u001b[0m       ^\u001b[0m\n\u001b[0;31mIndentationError\u001b[0m\u001b[0;31m:\u001b[0m expected an indented block\n"
     ]
    }
   ],
   "source": [
    "#moment to decide\n",
    "\n",
    "print(f\"You have in hand {hand_player} with a total of {sum(hand_player)}\")\n",
    "print(f\"The dealer has in hand {hand_dealer[0]} and the other covert\")\n",
    "\n",
    "#function of accion again\n",
    "\n",
    "accion=(int(input(\"Would you like to be Hit[1] again, you Stand[2] or you Pass[3]?  \")))\n",
    "while accion not in [1,2,3]:\n",
    "    print(\"Sorry, incorrect accion. You should put 1 (hit), 2(stand) or 3 (pass)\")\n",
    "    accion=int(input(\"Would you like to be Hit[1] again, you Stand[2] or you Pass[3]?  \"))\n",
    "    if accion == 1:\n",
    "            \n",
    "        card=deck.pop()\n",
    "        hand_player.append(card)    \n",
    "        while sum(hand_dealer)<17:\n",
    "            card=deck.pop()\n",
    "            hand_dealer.append(card)\n",
    "               \n",
    "    if accion == 2:\n",
    "            \n",
    "        while sum(hand_dealer)<17:\n",
    "        card=deck.pop()\n",
    "        hand_dealer.append(card)\n",
    "            \n",
    "    if accion == 3:\n",
    "        print(f\"You pass the round. The dealer wins {bet_in_table}.\")\n",
    "    \n",
    "    "
   ]
  },
  {
   "cell_type": "code",
   "execution_count": 9,
   "metadata": {},
   "outputs": [
    {
     "name": "stdout",
     "output_type": "stream",
     "text": [
      "Welcome to Blackjack\n",
      "You are going to play against the dealer and each round you are going to bet the amount you want until you do not have more money or the dealer has lose it everything. Be careful, you win whit a Blackjack(21) or a hand higher than the dealer one. The dealer DOES NOT ACCEPT ERRORS, you have only chance. \n",
      "\n",
      "How much money do you want to play in the game? The minimum is 60 and maximum is 150.  90\n",
      "You have  an As in your hand [10, 'A'].\n",
      "Do you want the As to be value as 1 or 11? Insert value 1 or 11:  11\n",
      "You have in hand [10, 11] with a total of 21\n",
      "The dealer has in hand 7 and the other covert\n",
      "Would you like to be Hit[1] again, you Stand[2] or you Pass[3]?  2\n",
      "You win against the dealer with a Blackjack. You win 60\n",
      "You have 150 dollars. Do you want to keep playing? Answers with Yes or No.Yes\n",
      "You have in hand [10, 7] with a total of 17\n",
      "The dealer has in hand 9 and the other covert\n",
      "Would you like to be Hit[1] again, you Stand[2] or you Pass[3]?  3\n",
      "You pass the round. The dealer wins 60.\n",
      "The dealer has won this round. You lose 30\n",
      "You have 120 dollars. Do you want to keep playing? Answers with Yes or No.No\n",
      "Thank you for playing Blackjack. You leave with 120 dollars\n"
     ]
    }
   ],
   "source": [
    "import random\n",
    "\n",
    "deck = ['A',2,3,4,5,6,7,8,9,10,10,10]*4\n",
    "random.shuffle(deck)\n",
    "bet=30\n",
    "bet_in_table=60\n",
    "money=0\n",
    "playing=\"Yes\"\n",
    "\n",
    "import re\n",
    "def money_player(money):\n",
    "    \n",
    "    exit = True\n",
    "    while exit==True:\n",
    "        money = input(\"How much money do you want to play in the game? The minimum is 60 and maximum is 150.  \")\n",
    "        if re.match(\"^([6-8][0-9]|9[0-9]|1[0-4][0-9]|150)$\",money) is not None:\n",
    "            return int(money)\n",
    "            \n",
    "        else:\n",
    "            print(\"Sorry, you quantity is not accepted for playing. The dealer kick you out from the table.\")\n",
    "            return 'error'\n",
    "            \n",
    "            exit = False\n",
    "            \n",
    "        \n",
    "            \n",
    "            \n",
    "\n",
    "#def bet_1(money):        \n",
    "   # exit = True\n",
    "    #while True:\n",
    "        #bet = input(\"The bet needs to be 30 from \")\n",
    "        #if re.match(\"^\\d+$\",bet) is not None:\n",
    "            #bet=int(bet)\n",
    "            #if bet<money:\n",
    "                #bet_in_table=bet*2\n",
    "            \n",
    "                #return bet_in_table, bet\n",
    "            #else:\n",
    "                #print(\"Sorry, you put an incorrect bet. You are out of the game.\")\n",
    "                #return 'error'\n",
    "                #exit = False  \n",
    "                \n",
    "        #else:\n",
    "            #print(\"Sorry, you put an incorrect bet. You are out of the game.\")\n",
    "            #return 'error'\n",
    "            #exit = False  \n",
    "                          \n",
    "def opcions(money,bet_in_table,bet):\n",
    "    if sum(hand_dealer)==21:\n",
    "        print(f\"Sorry you lose {bet}. The dealer got a Blackjack\")\n",
    "        money=money-bet\n",
    "        \n",
    "    elif sum(hand_player)==21:\n",
    "        print(f\"You win against the dealer with a Blackjack. You win {bet_in_table}\")\n",
    "        money= money + bet_in_table\n",
    "        \n",
    "    elif sum(hand_player)>21:\n",
    "        print(f\"Sorry Mate. You busted. You lose {bet}\")\n",
    "        money=money-bet\n",
    "        \n",
    "    \n",
    "    elif sum(hand_dealer)>21:\n",
    "        print(f\"The dealer busted, lucky you. You win {bet_in_table}\")\n",
    "        money= money+bet_in_table\n",
    "        \n",
    "    \n",
    "    elif sum(hand_player)<sum(hand_dealer):\n",
    "        print(f\"The dealer has won this round. You lose {bet}\")\n",
    "        money= money - bet\n",
    "        \n",
    "    \n",
    "    elif sum(hand_player)>sum(hand_dealer):\n",
    "        print(f\"You have a higher hand than the dealer. You win {bet_in_table}.\")\n",
    "        money= money +bet_in_table\n",
    "        \n",
    "    \n",
    "    else:\n",
    "        print(\"There has been a tie. Nobody wins\")\n",
    "        money=money + bet\n",
    "        \n",
    "    return money    \n",
    "def change_A(): \n",
    "    if 'A' in hand_player:\n",
    "        print(f\"You have  an As in your hand {hand_player}.\")\n",
    "        if hand_player[0]=='A':\n",
    "            hand_player[0]=int(input(\"Do you want the As to be value as 1 or 11? Insert value 1 or 11:  \"))\n",
    "            while hand_player[0] not in [1,11]:\n",
    "                hand_player[0]=int(input(\"Please choose between 1 or 11 \"))\n",
    "        elif hand_player[1]=='A':\n",
    "            hand_player[1]=int(input(\"Do you want the As to be value as 1 or 11? Insert value 1 or 11:  \"))\n",
    "            while hand_player[1] not in [1,11]:\n",
    "                hand_player[1]=int(input(\"Please choose between 1 or 11 \"))     \n",
    "    elif 'A' in hand_dealer:\n",
    "        if hand_dealer[0]=='A':\n",
    "            if hand_dealer[1]<=6:\n",
    "                hand_dealer[0]=11\n",
    "            else:\n",
    "                hand_dealer[0]=1\n",
    "                \n",
    "        elif hand_dealer[1]=='A':\n",
    "            if hand_dealer[0]<=6:\n",
    "                hand_dealer[1]=11\n",
    "            else:\n",
    "                hand_dealer[1]=1\n",
    "        \n",
    "def shuffle_card():\n",
    "    hand = []\n",
    "    for x in range(2):\n",
    "        card = deck.pop()\n",
    "        hand.append(card)\n",
    "    return hand\n",
    "##############################################################\n",
    "print(\"Welcome to Blackjack\")\n",
    "print(\"You are going to play against the dealer and each round you are going to bet the amount you want until you do not have more money or the dealer has lose it everything. Be careful, you win whit a Blackjack(21) or a hand higher than the dealer one. The dealer DOES NOT ACCEPT ERRORS, you have only chance. \")\n",
    "print()\n",
    "money = money_player(money)\n",
    "    \n",
    "            \n",
    "while playing == \"Yes\":\n",
    "    \n",
    "    if money == 'error':\n",
    "        playing=='No'\n",
    "        break\n",
    "        \n",
    "#hand of player and dealer\n",
    "    #bet = bet_1(money)\n",
    "        \n",
    "    #if bet_1(money)==\"error\":\n",
    "        #playing=='No'\n",
    "        #break\n",
    "            \n",
    "    #bet_in_table, bet = bet_1(money)\n",
    "        \n",
    "        \n",
    "\n",
    "    hand_player = shuffle_card()\n",
    "    hand_dealer = shuffle_card()\n",
    "\n",
    "    change_A()\n",
    "        \n",
    "     \n",
    "\n",
    "    print(f\"You have in hand {hand_player} with a total of {sum(hand_player)}\")\n",
    "\n",
    "    print(f\"The dealer has in hand {hand_dealer[0]} and the other covert\")\n",
    "\n",
    "#function of accion again\n",
    "\n",
    "    accion=int(input(\"Would you like to be Hit[1] again, you Stand[2] or you Pass[3]?  \"))\n",
    "    while accion !=1 and accion !=2 and accion !=3:\n",
    "            print(\"Sorry, incorrect accion. You should put 1 (hit), 2(stand) or 3(pass)\")\n",
    "            accion=int(input(\"Would you like to be Hit[1] again, you Stand[2] or you Pass[3]?  \"))\n",
    "        \n",
    "    if accion == 1:\n",
    "        card=deck.pop()\n",
    "        hand_player.append(card)    \n",
    "        while sum(hand_dealer)<17:\n",
    "            card=deck.pop()\n",
    "            hand_dealer.append(card)\n",
    "        money=opcions(money,bet,bet_in_table)\n",
    "\n",
    "    elif accion == 2:\n",
    "        while sum(hand_dealer)<17:\n",
    "            card=deck.pop()\n",
    "            hand_dealer.append(card)\n",
    "        money=opcions(money,bet_in_table,bet)\n",
    "        \n",
    "        \n",
    "    elif accion == 3:\n",
    "        print(f\"You pass the round. The dealer wins {bet_in_table}.\")\n",
    "        money=opcions(money,bet_in_table,bet)\n",
    "    \n",
    "    \n",
    "    playing=input(f\"You have {money} dollars. Do you want to keep playing? Answers with Yes or No.\"     )\n",
    "    while playing !=\"Yes\" and playing!=\"No\":\n",
    "        playing=input(\"You must answer with Yes or No, if you want to play or not.   \")\n",
    "\n",
    "    if money> 300:\n",
    "        print(\"The dealer catch you counting. They quick you out of the casino.\")\n",
    "        money=0\n",
    "        playing==\"No\"\n",
    "    if playing == \"No\":\n",
    "        print(f\"Thank you for playing Blackjack. You leave with {money} dollars\")"
   ]
  },
  {
   "cell_type": "code",
   "execution_count": 161,
   "metadata": {},
   "outputs": [
    {
     "ename": "KeyboardInterrupt",
     "evalue": "",
     "output_type": "error",
     "traceback": [
      "\u001b[0;31m---------------------------------------------------------------------------\u001b[0m",
      "\u001b[0;31mKeyboardInterrupt\u001b[0m                         Traceback (most recent call last)",
      "\u001b[0;32m/usr/local/Cellar/ipython/7.8.0/libexec/vendor/lib/python3.7/site-packages/ipykernel/kernelbase.py\u001b[0m in \u001b[0;36m_input_request\u001b[0;34m(self, prompt, ident, parent, password)\u001b[0m\n\u001b[1;32m    884\u001b[0m             \u001b[0;32mtry\u001b[0m\u001b[0;34m:\u001b[0m\u001b[0;34m\u001b[0m\u001b[0;34m\u001b[0m\u001b[0m\n\u001b[0;32m--> 885\u001b[0;31m                 \u001b[0mident\u001b[0m\u001b[0;34m,\u001b[0m \u001b[0mreply\u001b[0m \u001b[0;34m=\u001b[0m \u001b[0mself\u001b[0m\u001b[0;34m.\u001b[0m\u001b[0msession\u001b[0m\u001b[0;34m.\u001b[0m\u001b[0mrecv\u001b[0m\u001b[0;34m(\u001b[0m\u001b[0mself\u001b[0m\u001b[0;34m.\u001b[0m\u001b[0mstdin_socket\u001b[0m\u001b[0;34m,\u001b[0m \u001b[0;36m0\u001b[0m\u001b[0;34m)\u001b[0m\u001b[0;34m\u001b[0m\u001b[0;34m\u001b[0m\u001b[0m\n\u001b[0m\u001b[1;32m    886\u001b[0m             \u001b[0;32mexcept\u001b[0m \u001b[0mException\u001b[0m\u001b[0;34m:\u001b[0m\u001b[0;34m\u001b[0m\u001b[0;34m\u001b[0m\u001b[0m\n",
      "\u001b[0;32m/usr/local/Cellar/ipython/7.8.0/libexec/vendor/lib/python3.7/site-packages/jupyter_client/session.py\u001b[0m in \u001b[0;36mrecv\u001b[0;34m(self, socket, mode, content, copy)\u001b[0m\n\u001b[1;32m    802\u001b[0m         \u001b[0;32mtry\u001b[0m\u001b[0;34m:\u001b[0m\u001b[0;34m\u001b[0m\u001b[0;34m\u001b[0m\u001b[0m\n\u001b[0;32m--> 803\u001b[0;31m             \u001b[0mmsg_list\u001b[0m \u001b[0;34m=\u001b[0m \u001b[0msocket\u001b[0m\u001b[0;34m.\u001b[0m\u001b[0mrecv_multipart\u001b[0m\u001b[0;34m(\u001b[0m\u001b[0mmode\u001b[0m\u001b[0;34m,\u001b[0m \u001b[0mcopy\u001b[0m\u001b[0;34m=\u001b[0m\u001b[0mcopy\u001b[0m\u001b[0;34m)\u001b[0m\u001b[0;34m\u001b[0m\u001b[0;34m\u001b[0m\u001b[0m\n\u001b[0m\u001b[1;32m    804\u001b[0m         \u001b[0;32mexcept\u001b[0m \u001b[0mzmq\u001b[0m\u001b[0;34m.\u001b[0m\u001b[0mZMQError\u001b[0m \u001b[0;32mas\u001b[0m \u001b[0me\u001b[0m\u001b[0;34m:\u001b[0m\u001b[0;34m\u001b[0m\u001b[0;34m\u001b[0m\u001b[0m\n",
      "\u001b[0;32m/usr/local/Cellar/ipython/7.8.0/libexec/vendor/lib/python3.7/site-packages/zmq/sugar/socket.py\u001b[0m in \u001b[0;36mrecv_multipart\u001b[0;34m(self, flags, copy, track)\u001b[0m\n\u001b[1;32m    474\u001b[0m         \"\"\"\n\u001b[0;32m--> 475\u001b[0;31m         \u001b[0mparts\u001b[0m \u001b[0;34m=\u001b[0m \u001b[0;34m[\u001b[0m\u001b[0mself\u001b[0m\u001b[0;34m.\u001b[0m\u001b[0mrecv\u001b[0m\u001b[0;34m(\u001b[0m\u001b[0mflags\u001b[0m\u001b[0;34m,\u001b[0m \u001b[0mcopy\u001b[0m\u001b[0;34m=\u001b[0m\u001b[0mcopy\u001b[0m\u001b[0;34m,\u001b[0m \u001b[0mtrack\u001b[0m\u001b[0;34m=\u001b[0m\u001b[0mtrack\u001b[0m\u001b[0;34m)\u001b[0m\u001b[0;34m]\u001b[0m\u001b[0;34m\u001b[0m\u001b[0;34m\u001b[0m\u001b[0m\n\u001b[0m\u001b[1;32m    476\u001b[0m         \u001b[0;31m# have first part already, only loop while more to receive\u001b[0m\u001b[0;34m\u001b[0m\u001b[0;34m\u001b[0m\u001b[0;34m\u001b[0m\u001b[0m\n",
      "\u001b[0;32mzmq/backend/cython/socket.pyx\u001b[0m in \u001b[0;36mzmq.backend.cython.socket.Socket.recv\u001b[0;34m()\u001b[0m\n",
      "\u001b[0;32mzmq/backend/cython/socket.pyx\u001b[0m in \u001b[0;36mzmq.backend.cython.socket.Socket.recv\u001b[0;34m()\u001b[0m\n",
      "\u001b[0;32mzmq/backend/cython/socket.pyx\u001b[0m in \u001b[0;36mzmq.backend.cython.socket._recv_copy\u001b[0;34m()\u001b[0m\n",
      "\u001b[0;32m/usr/local/Cellar/ipython/7.8.0/libexec/vendor/lib/python3.7/site-packages/zmq/backend/cython/checkrc.pxd\u001b[0m in \u001b[0;36mzmq.backend.cython.checkrc._check_rc\u001b[0;34m()\u001b[0m\n",
      "\u001b[0;31mKeyboardInterrupt\u001b[0m: ",
      "\nDuring handling of the above exception, another exception occurred:\n",
      "\u001b[0;31mKeyboardInterrupt\u001b[0m                         Traceback (most recent call last)",
      "\u001b[0;32m<ipython-input-161-aa40c245a31a>\u001b[0m in \u001b[0;36m<module>\u001b[0;34m\u001b[0m\n\u001b[0;32m----> 1\u001b[0;31m \u001b[0maccion\u001b[0m\u001b[0;34m=\u001b[0m\u001b[0minput\u001b[0m\u001b[0;34m(\u001b[0m\u001b[0;34m\"Would you like to be Hit[H] again, you Stand[S] or you Pass[P]?  \"\u001b[0m\u001b[0;34m)\u001b[0m\u001b[0;34m\u001b[0m\u001b[0;34m\u001b[0m\u001b[0m\n\u001b[0m\u001b[1;32m      2\u001b[0m \u001b[0mprint\u001b[0m\u001b[0;34m(\u001b[0m\u001b[0mtype\u001b[0m\u001b[0;34m(\u001b[0m\u001b[0;34m'H'\u001b[0m\u001b[0;34m)\u001b[0m\u001b[0;34m)\u001b[0m\u001b[0;34m\u001b[0m\u001b[0;34m\u001b[0m\u001b[0m\n\u001b[1;32m      3\u001b[0m \u001b[0mprint\u001b[0m\u001b[0;34m(\u001b[0m\u001b[0mtype\u001b[0m\u001b[0;34m(\u001b[0m\u001b[0maccion\u001b[0m\u001b[0;34m)\u001b[0m\u001b[0;34m)\u001b[0m\u001b[0;34m\u001b[0m\u001b[0;34m\u001b[0m\u001b[0m\n\u001b[1;32m      4\u001b[0m \u001b[0;31m#preguntar nacho: letras para opciones, las letras de la baraja, la money si necesario\u001b[0m\u001b[0;34m\u001b[0m\u001b[0;34m\u001b[0m\u001b[0;34m\u001b[0m\u001b[0m\n",
      "\u001b[0;32m/usr/local/Cellar/ipython/7.8.0/libexec/vendor/lib/python3.7/site-packages/ipykernel/kernelbase.py\u001b[0m in \u001b[0;36mraw_input\u001b[0;34m(self, prompt)\u001b[0m\n\u001b[1;32m    858\u001b[0m             \u001b[0mself\u001b[0m\u001b[0;34m.\u001b[0m\u001b[0m_parent_ident\u001b[0m\u001b[0;34m,\u001b[0m\u001b[0;34m\u001b[0m\u001b[0;34m\u001b[0m\u001b[0m\n\u001b[1;32m    859\u001b[0m             \u001b[0mself\u001b[0m\u001b[0;34m.\u001b[0m\u001b[0m_parent_header\u001b[0m\u001b[0;34m,\u001b[0m\u001b[0;34m\u001b[0m\u001b[0;34m\u001b[0m\u001b[0m\n\u001b[0;32m--> 860\u001b[0;31m             \u001b[0mpassword\u001b[0m\u001b[0;34m=\u001b[0m\u001b[0;32mFalse\u001b[0m\u001b[0;34m,\u001b[0m\u001b[0;34m\u001b[0m\u001b[0;34m\u001b[0m\u001b[0m\n\u001b[0m\u001b[1;32m    861\u001b[0m         )\n\u001b[1;32m    862\u001b[0m \u001b[0;34m\u001b[0m\u001b[0m\n",
      "\u001b[0;32m/usr/local/Cellar/ipython/7.8.0/libexec/vendor/lib/python3.7/site-packages/ipykernel/kernelbase.py\u001b[0m in \u001b[0;36m_input_request\u001b[0;34m(self, prompt, ident, parent, password)\u001b[0m\n\u001b[1;32m    888\u001b[0m             \u001b[0;32mexcept\u001b[0m \u001b[0mKeyboardInterrupt\u001b[0m\u001b[0;34m:\u001b[0m\u001b[0;34m\u001b[0m\u001b[0;34m\u001b[0m\u001b[0m\n\u001b[1;32m    889\u001b[0m                 \u001b[0;31m# re-raise KeyboardInterrupt, to truncate traceback\u001b[0m\u001b[0;34m\u001b[0m\u001b[0;34m\u001b[0m\u001b[0;34m\u001b[0m\u001b[0m\n\u001b[0;32m--> 890\u001b[0;31m                 \u001b[0;32mraise\u001b[0m \u001b[0mKeyboardInterrupt\u001b[0m\u001b[0;34m\u001b[0m\u001b[0;34m\u001b[0m\u001b[0m\n\u001b[0m\u001b[1;32m    891\u001b[0m             \u001b[0;32melse\u001b[0m\u001b[0;34m:\u001b[0m\u001b[0;34m\u001b[0m\u001b[0;34m\u001b[0m\u001b[0m\n\u001b[1;32m    892\u001b[0m                 \u001b[0;32mbreak\u001b[0m\u001b[0;34m\u001b[0m\u001b[0;34m\u001b[0m\u001b[0m\n",
      "\u001b[0;31mKeyboardInterrupt\u001b[0m: "
     ]
    }
   ],
   "source": [
    "accion=input(\"Would you like to be Hit[H] again, you Stand[S] or you Pass[P]?  \")\n",
    "print(type('H'))\n",
    "print(type(accion))\n",
    "#preguntar nacho: letras para opciones, las letras de la baraja, la money si necesario"
   ]
  },
  {
   "cell_type": "code",
   "execution_count": null,
   "metadata": {},
   "outputs": [],
   "source": [
    "accion=input(\"Would you like to be Hit[H] again, you Stand[S] or you Pass[P]?  \")\n",
    "print(type(accion))\n",
    "while (accion != \"H\") and (accion!= \"S\") and (accion != \"P\"):\n",
    "    print(\"Sorry, incorrect accion. You should put 1 (hit), 2(stand) or 3(pass)\")\n",
    "    accion=(input(\"Would you like to be Hit[H] again, you Stand[S] or you Pass[P]?  \"))"
   ]
  },
  {
   "cell_type": "code",
   "execution_count": null,
   "metadata": {},
   "outputs": [],
   "source": [
    "#change A to 1 or 11\n",
    "\n",
    "hand_player = [10,'A']\n",
    "hand_dealer=[6,'A']\n",
    "def change_A():\n",
    "    \n",
    "    if 'A' in hand_player:\n",
    "        print(f\"You have  an As in your hand {hand_player}.\")\n",
    "        if hand_player[0]=='A':\n",
    "            hand_player[0]=int(input(\"Do you want the As to be value as 1 or 11? Insert value 1 or 11:  \"))\n",
    "            while hand_player[0] not in [1,11]:\n",
    "                hand_player[0]=int(input(\"Please choose between 1 or 11 \"))\n",
    "        elif hand_player[1]=='A':\n",
    "            hand_player[1]=int(input(\"Do you want the As to be value as 1 or 11? Insert value 1 or 11:  \"))\n",
    "            while hand_player[1] not in [1,11]:\n",
    "                hand_player[1]=int(input(\"Please choose between 1 or 11 \"))    \n",
    "      \n",
    "    if 'A' in hand_dealer:\n",
    "        if hand_dealer[0]=='A':\n",
    "            if hand_dealer[1]<=6:\n",
    "                hand_dealer[0]=11\n",
    "            else:\n",
    "                hand_dealer[0]=1\n",
    "                \n",
    "        elif hand_dealer[1]=='A':\n",
    "            if hand_dealer[0]<=6:\n",
    "                hand_dealer[1]=11\n",
    "            else:\n",
    "                hand_dealer[1]=1\n",
    "    \n",
    "    \n",
    "\n",
    "                \n",
    "\n",
    "change_A()   \n",
    "print(f\"You have in hand {hand_player} with a total of {sum(hand_player)}\")\n",
    "print(f\"The dealer has in hand {hand_dealer} and the other covert.\")\n",
    "\n"
   ]
  },
  {
   "cell_type": "code",
   "execution_count": 14,
   "metadata": {},
   "outputs": [
    {
     "name": "stdout",
     "output_type": "stream",
     "text": [
      "You earn 1. Do you want to keep playing? Answers with Yes or No.yes\n",
      "You must answer with Yes or No, if you want to play or not.   jkg\n",
      "You must answer with Yes or No, if you want to play or not.   Yes\n"
     ]
    },
    {
     "ename": "KeyboardInterrupt",
     "evalue": "",
     "output_type": "error",
     "traceback": [
      "\u001b[0;31m---------------------------------------------------------------------------\u001b[0m",
      "\u001b[0;31mKeyboardInterrupt\u001b[0m                         Traceback (most recent call last)",
      "\u001b[0;32m/usr/local/Cellar/ipython/7.8.0/libexec/vendor/lib/python3.7/site-packages/ipykernel/kernelbase.py\u001b[0m in \u001b[0;36m_input_request\u001b[0;34m(self, prompt, ident, parent, password)\u001b[0m\n\u001b[1;32m    884\u001b[0m             \u001b[0;32mtry\u001b[0m\u001b[0;34m:\u001b[0m\u001b[0;34m\u001b[0m\u001b[0;34m\u001b[0m\u001b[0m\n\u001b[0;32m--> 885\u001b[0;31m                 \u001b[0mident\u001b[0m\u001b[0;34m,\u001b[0m \u001b[0mreply\u001b[0m \u001b[0;34m=\u001b[0m \u001b[0mself\u001b[0m\u001b[0;34m.\u001b[0m\u001b[0msession\u001b[0m\u001b[0;34m.\u001b[0m\u001b[0mrecv\u001b[0m\u001b[0;34m(\u001b[0m\u001b[0mself\u001b[0m\u001b[0;34m.\u001b[0m\u001b[0mstdin_socket\u001b[0m\u001b[0;34m,\u001b[0m \u001b[0;36m0\u001b[0m\u001b[0;34m)\u001b[0m\u001b[0;34m\u001b[0m\u001b[0;34m\u001b[0m\u001b[0m\n\u001b[0m\u001b[1;32m    886\u001b[0m             \u001b[0;32mexcept\u001b[0m \u001b[0mException\u001b[0m\u001b[0;34m:\u001b[0m\u001b[0;34m\u001b[0m\u001b[0;34m\u001b[0m\u001b[0m\n",
      "\u001b[0;32m/usr/local/Cellar/ipython/7.8.0/libexec/vendor/lib/python3.7/site-packages/jupyter_client/session.py\u001b[0m in \u001b[0;36mrecv\u001b[0;34m(self, socket, mode, content, copy)\u001b[0m\n\u001b[1;32m    802\u001b[0m         \u001b[0;32mtry\u001b[0m\u001b[0;34m:\u001b[0m\u001b[0;34m\u001b[0m\u001b[0;34m\u001b[0m\u001b[0m\n\u001b[0;32m--> 803\u001b[0;31m             \u001b[0mmsg_list\u001b[0m \u001b[0;34m=\u001b[0m \u001b[0msocket\u001b[0m\u001b[0;34m.\u001b[0m\u001b[0mrecv_multipart\u001b[0m\u001b[0;34m(\u001b[0m\u001b[0mmode\u001b[0m\u001b[0;34m,\u001b[0m \u001b[0mcopy\u001b[0m\u001b[0;34m=\u001b[0m\u001b[0mcopy\u001b[0m\u001b[0;34m)\u001b[0m\u001b[0;34m\u001b[0m\u001b[0;34m\u001b[0m\u001b[0m\n\u001b[0m\u001b[1;32m    804\u001b[0m         \u001b[0;32mexcept\u001b[0m \u001b[0mzmq\u001b[0m\u001b[0;34m.\u001b[0m\u001b[0mZMQError\u001b[0m \u001b[0;32mas\u001b[0m \u001b[0me\u001b[0m\u001b[0;34m:\u001b[0m\u001b[0;34m\u001b[0m\u001b[0;34m\u001b[0m\u001b[0m\n",
      "\u001b[0;32m/usr/local/Cellar/ipython/7.8.0/libexec/vendor/lib/python3.7/site-packages/zmq/sugar/socket.py\u001b[0m in \u001b[0;36mrecv_multipart\u001b[0;34m(self, flags, copy, track)\u001b[0m\n\u001b[1;32m    474\u001b[0m         \"\"\"\n\u001b[0;32m--> 475\u001b[0;31m         \u001b[0mparts\u001b[0m \u001b[0;34m=\u001b[0m \u001b[0;34m[\u001b[0m\u001b[0mself\u001b[0m\u001b[0;34m.\u001b[0m\u001b[0mrecv\u001b[0m\u001b[0;34m(\u001b[0m\u001b[0mflags\u001b[0m\u001b[0;34m,\u001b[0m \u001b[0mcopy\u001b[0m\u001b[0;34m=\u001b[0m\u001b[0mcopy\u001b[0m\u001b[0;34m,\u001b[0m \u001b[0mtrack\u001b[0m\u001b[0;34m=\u001b[0m\u001b[0mtrack\u001b[0m\u001b[0;34m)\u001b[0m\u001b[0;34m]\u001b[0m\u001b[0;34m\u001b[0m\u001b[0;34m\u001b[0m\u001b[0m\n\u001b[0m\u001b[1;32m    476\u001b[0m         \u001b[0;31m# have first part already, only loop while more to receive\u001b[0m\u001b[0;34m\u001b[0m\u001b[0;34m\u001b[0m\u001b[0;34m\u001b[0m\u001b[0m\n",
      "\u001b[0;32mzmq/backend/cython/socket.pyx\u001b[0m in \u001b[0;36mzmq.backend.cython.socket.Socket.recv\u001b[0;34m()\u001b[0m\n",
      "\u001b[0;32mzmq/backend/cython/socket.pyx\u001b[0m in \u001b[0;36mzmq.backend.cython.socket.Socket.recv\u001b[0;34m()\u001b[0m\n",
      "\u001b[0;32mzmq/backend/cython/socket.pyx\u001b[0m in \u001b[0;36mzmq.backend.cython.socket._recv_copy\u001b[0;34m()\u001b[0m\n",
      "\u001b[0;32m/usr/local/Cellar/ipython/7.8.0/libexec/vendor/lib/python3.7/site-packages/zmq/backend/cython/checkrc.pxd\u001b[0m in \u001b[0;36mzmq.backend.cython.checkrc._check_rc\u001b[0;34m()\u001b[0m\n",
      "\u001b[0;31mKeyboardInterrupt\u001b[0m: ",
      "\nDuring handling of the above exception, another exception occurred:\n",
      "\u001b[0;31mKeyboardInterrupt\u001b[0m                         Traceback (most recent call last)",
      "\u001b[0;32m<ipython-input-14-ebad5c6e1626>\u001b[0m in \u001b[0;36m<module>\u001b[0;34m\u001b[0m\n\u001b[1;32m     10\u001b[0m         \u001b[0mprint\u001b[0m\u001b[0;34m(\u001b[0m\u001b[0;34m\"They cache you counting cards!!! You are going to be send to jail.\"\u001b[0m\u001b[0;34m)\u001b[0m\u001b[0;34m\u001b[0m\u001b[0;34m\u001b[0m\u001b[0m\n\u001b[1;32m     11\u001b[0m \u001b[0;34m\u001b[0m\u001b[0m\n\u001b[0;32m---> 12\u001b[0;31m     \u001b[0mplaying\u001b[0m\u001b[0;34m=\u001b[0m\u001b[0minput\u001b[0m\u001b[0;34m(\u001b[0m\u001b[0;34mf\"You earn {money}. Do you want to keep playing? Answers with Yes or No.\"\u001b[0m     \u001b[0;34m)\u001b[0m\u001b[0;34m\u001b[0m\u001b[0;34m\u001b[0m\u001b[0m\n\u001b[0m\u001b[1;32m     13\u001b[0m     \u001b[0;32mwhile\u001b[0m \u001b[0mplaying\u001b[0m \u001b[0;34m!=\u001b[0m \u001b[0;34m\"Yes\"\u001b[0m \u001b[0;32mand\u001b[0m \u001b[0mplaying\u001b[0m\u001b[0;34m!=\u001b[0m\u001b[0;34m\"No\"\u001b[0m\u001b[0;34m:\u001b[0m\u001b[0;34m\u001b[0m\u001b[0;34m\u001b[0m\u001b[0m\n\u001b[1;32m     14\u001b[0m         \u001b[0mplaying\u001b[0m\u001b[0;34m=\u001b[0m\u001b[0minput\u001b[0m\u001b[0;34m(\u001b[0m\u001b[0;34m\"You must answer with Yes or No, if you want to play or not.   \"\u001b[0m\u001b[0;34m)\u001b[0m\u001b[0;34m\u001b[0m\u001b[0;34m\u001b[0m\u001b[0m\n",
      "\u001b[0;32m/usr/local/Cellar/ipython/7.8.0/libexec/vendor/lib/python3.7/site-packages/ipykernel/kernelbase.py\u001b[0m in \u001b[0;36mraw_input\u001b[0;34m(self, prompt)\u001b[0m\n\u001b[1;32m    858\u001b[0m             \u001b[0mself\u001b[0m\u001b[0;34m.\u001b[0m\u001b[0m_parent_ident\u001b[0m\u001b[0;34m,\u001b[0m\u001b[0;34m\u001b[0m\u001b[0;34m\u001b[0m\u001b[0m\n\u001b[1;32m    859\u001b[0m             \u001b[0mself\u001b[0m\u001b[0;34m.\u001b[0m\u001b[0m_parent_header\u001b[0m\u001b[0;34m,\u001b[0m\u001b[0;34m\u001b[0m\u001b[0;34m\u001b[0m\u001b[0m\n\u001b[0;32m--> 860\u001b[0;31m             \u001b[0mpassword\u001b[0m\u001b[0;34m=\u001b[0m\u001b[0;32mFalse\u001b[0m\u001b[0;34m,\u001b[0m\u001b[0;34m\u001b[0m\u001b[0;34m\u001b[0m\u001b[0m\n\u001b[0m\u001b[1;32m    861\u001b[0m         )\n\u001b[1;32m    862\u001b[0m \u001b[0;34m\u001b[0m\u001b[0m\n",
      "\u001b[0;32m/usr/local/Cellar/ipython/7.8.0/libexec/vendor/lib/python3.7/site-packages/ipykernel/kernelbase.py\u001b[0m in \u001b[0;36m_input_request\u001b[0;34m(self, prompt, ident, parent, password)\u001b[0m\n\u001b[1;32m    888\u001b[0m             \u001b[0;32mexcept\u001b[0m \u001b[0mKeyboardInterrupt\u001b[0m\u001b[0;34m:\u001b[0m\u001b[0;34m\u001b[0m\u001b[0;34m\u001b[0m\u001b[0m\n\u001b[1;32m    889\u001b[0m                 \u001b[0;31m# re-raise KeyboardInterrupt, to truncate traceback\u001b[0m\u001b[0;34m\u001b[0m\u001b[0;34m\u001b[0m\u001b[0;34m\u001b[0m\u001b[0m\n\u001b[0;32m--> 890\u001b[0;31m                 \u001b[0;32mraise\u001b[0m \u001b[0mKeyboardInterrupt\u001b[0m\u001b[0;34m\u001b[0m\u001b[0;34m\u001b[0m\u001b[0m\n\u001b[0m\u001b[1;32m    891\u001b[0m             \u001b[0;32melse\u001b[0m\u001b[0;34m:\u001b[0m\u001b[0;34m\u001b[0m\u001b[0;34m\u001b[0m\u001b[0m\n\u001b[1;32m    892\u001b[0m                 \u001b[0;32mbreak\u001b[0m\u001b[0;34m\u001b[0m\u001b[0;34m\u001b[0m\u001b[0m\n",
      "\u001b[0;31mKeyboardInterrupt\u001b[0m: "
     ]
    }
   ],
   "source": [
    "#play again\n",
    "playing=\"Yes\"\n",
    "money=1\n",
    "while money>0 and playing == \"Yes\":\n",
    "    \n",
    "    #todo\n",
    "    #todo\n",
    "    \n",
    "    if money>150:\n",
    "        print(\"They cache you counting cards!!! You are going to be send to jail.\")\n",
    "        \n",
    "    playing=input(f\"You earn {money}. Do you want to keep playing? Answers with Yes or No.\"     )\n",
    "    while playing != \"Yes\" and playing!=\"No\":\n",
    "        playing=input(\"You must answer with Yes or No, if you want to play or not.   \")\n",
    "if money<0:\n",
    "    print(\"The dealer took all the money from you. \")\n",
    "if playing == \"No\":\n",
    "    print(f\"Thank you for playing Blackjack. You leave home with {money} dollars.\")\n",
    "    "
   ]
  },
  {
   "cell_type": "code",
   "execution_count": 93,
   "metadata": {},
   "outputs": [
    {
     "name": "stdout",
     "output_type": "stream",
     "text": [
      "How much money do you want to play in the game? The minimum is 20 and maximum is 150.  50\n",
      "50\n"
     ]
    }
   ],
   "source": [
    "money=1\n",
    "import re\n",
    "def money_player(money):\n",
    "    \n",
    "    exit = True\n",
    "    while exit==True:\n",
    "        money = input(\"How much money do you want to play in the game? The minimum is 20 and maximum is 150.  \")\n",
    "        if re.match(\"^([2-8][0-9]|9[0-9]|1[0-4][0-9]|150)$\",money) is not None:\n",
    "            #money=int(money)\n",
    "            #while money>150 or money<20:\n",
    "             #       print(\"Sorry, you quantity is not accepted for playing. The quantity MUST be between 20 and 150. Try again\")\n",
    "             #       money = input(\"How much money do you want to play in the game?\")\n",
    "            return int(money)\n",
    "            #except ValueError:\n",
    "                #print('Last chance to enter the bet correctly')\n",
    "                #money = int(input(\"How much money do you want to play in the game?\"))\n",
    "        else:\n",
    "            print(\"Sorry, you quantity is not accepted for playing. The dealer kick you out from the table.\")\n",
    "            #sys.exit()\n",
    "            return 'error'\n",
    "            money = input(\"How much money do you want to play in the game?\")\n",
    "            exit = 0\n",
    "            \n",
    "money=money_player(money)\n",
    "print(money)"
   ]
  },
  {
   "cell_type": "code",
   "execution_count": 97,
   "metadata": {},
   "outputs": [
    {
     "name": "stdout",
     "output_type": "stream",
     "text": [
      "How much money do you want to play in the game? The minimum is 20 and maximum is 150.  k\n",
      "Sorry, you quantity is not accepted for playing. The dealer kick you out from the table.\n",
      "error\n"
     ]
    }
   ],
   "source": [
    "import re\n",
    "def money_player(money):\n",
    "    \n",
    "    exit = True\n",
    "    while exit==True:\n",
    "        money = input(\"How much money do you want to play in the game? The minimum is 20 and maximum is 150.  \")\n",
    "        if re.match(\"^([2-8][0-9]|9[0-9]|1[0-4][0-9]|150)$\",money) is not None:\n",
    "            return int(money)\n",
    "            \n",
    "        else:\n",
    "            print(\"Sorry, you quantity is not accepted for playing. The dealer kick you out from the table.\")\n",
    "            return 'error'\n",
    "            \n",
    "            exit = False\n",
    "                          \n",
    "money=money_player(money)\n",
    "print(money)"
   ]
  },
  {
   "cell_type": "code",
   "execution_count": 6,
   "metadata": {},
   "outputs": [
    {
     "name": "stdout",
     "output_type": "stream",
     "text": [
      "How much would you like to bet in this round from you? Needs to be lower than you deposite.  70\n",
      "(140, 70)\n"
     ]
    }
   ],
   "source": [
    "money=120\n",
    "\n",
    "#bet=int(input(f\"How much would you like to bet in this round from you ?\"))\n",
    "    #while bet>money:\n",
    "        #print(\"Sorry you do not have that much in your deposite\")\n",
    "       # bet=int(input(f\"How much would you like to bet in this round from your {money} deposite ?\"))\n",
    "    #bet_in_table=bet*2\n",
    "    #return bet_in_table, bet\n",
    "def bet_1(money):        \n",
    "    exit = True\n",
    "    while exit==True:\n",
    "        bet = input(\"How much would you like to bet in this round from you? Needs to be lower than you deposite.  \")\n",
    "        if re.match(\"^\\d+$\",bet) is not None:\n",
    "            bet=int(bet)\n",
    "            if bet<money:\n",
    "                bet_in_table=bet*2\n",
    "            \n",
    "                return bet_in_table, bet\n",
    "            else:\n",
    "                print(\"Sorry, you put an incorrect bet. You are out of the game.\")\n",
    "                return 'error'\n",
    "                exit = False  \n",
    "                \n",
    "        else:\n",
    "            print(\"Sorry, you put an incorrect bet. You are out of the game.\")\n",
    "            return 'error'\n",
    "            exit = False  \n",
    "            \n",
    "            \n",
    "print(bet_1(money))"
   ]
  },
  {
   "cell_type": "code",
   "execution_count": 7,
   "metadata": {},
   "outputs": [
    {
     "name": "stdout",
     "output_type": "stream",
     "text": [
      "You have  an As in your hand [9, 'A'].\n"
     ]
    },
    {
     "ename": "KeyboardInterrupt",
     "evalue": "",
     "output_type": "error",
     "traceback": [
      "\u001b[0;31m---------------------------------------------------------------------------\u001b[0m",
      "\u001b[0;31mKeyboardInterrupt\u001b[0m                         Traceback (most recent call last)",
      "\u001b[0;32m/usr/local/Cellar/ipython/7.8.0/libexec/vendor/lib/python3.7/site-packages/ipykernel/kernelbase.py\u001b[0m in \u001b[0;36m_input_request\u001b[0;34m(self, prompt, ident, parent, password)\u001b[0m\n\u001b[1;32m    884\u001b[0m             \u001b[0;32mtry\u001b[0m\u001b[0;34m:\u001b[0m\u001b[0;34m\u001b[0m\u001b[0;34m\u001b[0m\u001b[0m\n\u001b[0;32m--> 885\u001b[0;31m                 \u001b[0mident\u001b[0m\u001b[0;34m,\u001b[0m \u001b[0mreply\u001b[0m \u001b[0;34m=\u001b[0m \u001b[0mself\u001b[0m\u001b[0;34m.\u001b[0m\u001b[0msession\u001b[0m\u001b[0;34m.\u001b[0m\u001b[0mrecv\u001b[0m\u001b[0;34m(\u001b[0m\u001b[0mself\u001b[0m\u001b[0;34m.\u001b[0m\u001b[0mstdin_socket\u001b[0m\u001b[0;34m,\u001b[0m \u001b[0;36m0\u001b[0m\u001b[0;34m)\u001b[0m\u001b[0;34m\u001b[0m\u001b[0;34m\u001b[0m\u001b[0m\n\u001b[0m\u001b[1;32m    886\u001b[0m             \u001b[0;32mexcept\u001b[0m \u001b[0mException\u001b[0m\u001b[0;34m:\u001b[0m\u001b[0;34m\u001b[0m\u001b[0;34m\u001b[0m\u001b[0m\n",
      "\u001b[0;32m/usr/local/Cellar/ipython/7.8.0/libexec/vendor/lib/python3.7/site-packages/jupyter_client/session.py\u001b[0m in \u001b[0;36mrecv\u001b[0;34m(self, socket, mode, content, copy)\u001b[0m\n\u001b[1;32m    802\u001b[0m         \u001b[0;32mtry\u001b[0m\u001b[0;34m:\u001b[0m\u001b[0;34m\u001b[0m\u001b[0;34m\u001b[0m\u001b[0m\n\u001b[0;32m--> 803\u001b[0;31m             \u001b[0mmsg_list\u001b[0m \u001b[0;34m=\u001b[0m \u001b[0msocket\u001b[0m\u001b[0;34m.\u001b[0m\u001b[0mrecv_multipart\u001b[0m\u001b[0;34m(\u001b[0m\u001b[0mmode\u001b[0m\u001b[0;34m,\u001b[0m \u001b[0mcopy\u001b[0m\u001b[0;34m=\u001b[0m\u001b[0mcopy\u001b[0m\u001b[0;34m)\u001b[0m\u001b[0;34m\u001b[0m\u001b[0;34m\u001b[0m\u001b[0m\n\u001b[0m\u001b[1;32m    804\u001b[0m         \u001b[0;32mexcept\u001b[0m \u001b[0mzmq\u001b[0m\u001b[0;34m.\u001b[0m\u001b[0mZMQError\u001b[0m \u001b[0;32mas\u001b[0m \u001b[0me\u001b[0m\u001b[0;34m:\u001b[0m\u001b[0;34m\u001b[0m\u001b[0;34m\u001b[0m\u001b[0m\n",
      "\u001b[0;32m/usr/local/Cellar/ipython/7.8.0/libexec/vendor/lib/python3.7/site-packages/zmq/sugar/socket.py\u001b[0m in \u001b[0;36mrecv_multipart\u001b[0;34m(self, flags, copy, track)\u001b[0m\n\u001b[1;32m    474\u001b[0m         \"\"\"\n\u001b[0;32m--> 475\u001b[0;31m         \u001b[0mparts\u001b[0m \u001b[0;34m=\u001b[0m \u001b[0;34m[\u001b[0m\u001b[0mself\u001b[0m\u001b[0;34m.\u001b[0m\u001b[0mrecv\u001b[0m\u001b[0;34m(\u001b[0m\u001b[0mflags\u001b[0m\u001b[0;34m,\u001b[0m \u001b[0mcopy\u001b[0m\u001b[0;34m=\u001b[0m\u001b[0mcopy\u001b[0m\u001b[0;34m,\u001b[0m \u001b[0mtrack\u001b[0m\u001b[0;34m=\u001b[0m\u001b[0mtrack\u001b[0m\u001b[0;34m)\u001b[0m\u001b[0;34m]\u001b[0m\u001b[0;34m\u001b[0m\u001b[0;34m\u001b[0m\u001b[0m\n\u001b[0m\u001b[1;32m    476\u001b[0m         \u001b[0;31m# have first part already, only loop while more to receive\u001b[0m\u001b[0;34m\u001b[0m\u001b[0;34m\u001b[0m\u001b[0;34m\u001b[0m\u001b[0m\n",
      "\u001b[0;32mzmq/backend/cython/socket.pyx\u001b[0m in \u001b[0;36mzmq.backend.cython.socket.Socket.recv\u001b[0;34m()\u001b[0m\n",
      "\u001b[0;32mzmq/backend/cython/socket.pyx\u001b[0m in \u001b[0;36mzmq.backend.cython.socket.Socket.recv\u001b[0;34m()\u001b[0m\n",
      "\u001b[0;32mzmq/backend/cython/socket.pyx\u001b[0m in \u001b[0;36mzmq.backend.cython.socket._recv_copy\u001b[0;34m()\u001b[0m\n",
      "\u001b[0;32m/usr/local/Cellar/ipython/7.8.0/libexec/vendor/lib/python3.7/site-packages/zmq/backend/cython/checkrc.pxd\u001b[0m in \u001b[0;36mzmq.backend.cython.checkrc._check_rc\u001b[0;34m()\u001b[0m\n",
      "\u001b[0;31mKeyboardInterrupt\u001b[0m: ",
      "\nDuring handling of the above exception, another exception occurred:\n",
      "\u001b[0;31mKeyboardInterrupt\u001b[0m                         Traceback (most recent call last)",
      "\u001b[0;32m<ipython-input-7-6657e2454b6e>\u001b[0m in \u001b[0;36m<module>\u001b[0;34m\u001b[0m\n\u001b[1;32m     31\u001b[0m             \u001b[0mexit\u001b[0m \u001b[0;34m=\u001b[0m \u001b[0;32mFalse\u001b[0m\u001b[0;34m\u001b[0m\u001b[0;34m\u001b[0m\u001b[0m\n\u001b[1;32m     32\u001b[0m \u001b[0;34m\u001b[0m\u001b[0m\n\u001b[0;32m---> 33\u001b[0;31m \u001b[0mprint\u001b[0m\u001b[0;34m(\u001b[0m\u001b[0mchange_A\u001b[0m\u001b[0;34m(\u001b[0m\u001b[0mhand_player\u001b[0m\u001b[0;34m)\u001b[0m\u001b[0;34m)\u001b[0m\u001b[0;34m\u001b[0m\u001b[0;34m\u001b[0m\u001b[0m\n\u001b[0m",
      "\u001b[0;32m<ipython-input-7-6657e2454b6e>\u001b[0m in \u001b[0;36mchange_A\u001b[0;34m(hand_player)\u001b[0m\n\u001b[1;32m     17\u001b[0m             \u001b[0mexit\u001b[0m \u001b[0;34m=\u001b[0m \u001b[0;32mTrue\u001b[0m\u001b[0;34m\u001b[0m\u001b[0;34m\u001b[0m\u001b[0m\n\u001b[1;32m     18\u001b[0m             \u001b[0;32mwhile\u001b[0m \u001b[0mexit\u001b[0m\u001b[0;34m==\u001b[0m\u001b[0;32mTrue\u001b[0m\u001b[0;34m:\u001b[0m\u001b[0;34m\u001b[0m\u001b[0;34m\u001b[0m\u001b[0m\n\u001b[0;32m---> 19\u001b[0;31m                 \u001b[0mnumber\u001b[0m\u001b[0;34m=\u001b[0m\u001b[0minput\u001b[0m\u001b[0;34m(\u001b[0m\u001b[0;34m\"You have an As. Do you want the As to be value as 1 or 11? Insert value 1 or 11:  \"\u001b[0m\u001b[0;34m)\u001b[0m\u001b[0;34m\u001b[0m\u001b[0;34m\u001b[0m\u001b[0m\n\u001b[0m\u001b[1;32m     20\u001b[0m                 \u001b[0;32mif\u001b[0m \u001b[0mre\u001b[0m\u001b[0;34m.\u001b[0m\u001b[0mmatch\u001b[0m\u001b[0;34m(\u001b[0m\u001b[0;34m\"[1-11]\"\u001b[0m\u001b[0;34m,\u001b[0m\u001b[0mnumber\u001b[0m\u001b[0;34m)\u001b[0m \u001b[0;32mis\u001b[0m \u001b[0;32mnot\u001b[0m \u001b[0;32mNone\u001b[0m\u001b[0;34m:\u001b[0m\u001b[0;34m\u001b[0m\u001b[0;34m\u001b[0m\u001b[0m\n\u001b[1;32m     21\u001b[0m                     \u001b[0mhand_player\u001b[0m\u001b[0;34m[\u001b[0m\u001b[0;36m0\u001b[0m\u001b[0;34m]\u001b[0m\u001b[0;34m=\u001b[0m \u001b[0mint\u001b[0m\u001b[0;34m(\u001b[0m\u001b[0mnumber\u001b[0m\u001b[0;34m)\u001b[0m\u001b[0;34m\u001b[0m\u001b[0;34m\u001b[0m\u001b[0m\n",
      "\u001b[0;32m/usr/local/Cellar/ipython/7.8.0/libexec/vendor/lib/python3.7/site-packages/ipykernel/kernelbase.py\u001b[0m in \u001b[0;36mraw_input\u001b[0;34m(self, prompt)\u001b[0m\n\u001b[1;32m    858\u001b[0m             \u001b[0mself\u001b[0m\u001b[0;34m.\u001b[0m\u001b[0m_parent_ident\u001b[0m\u001b[0;34m,\u001b[0m\u001b[0;34m\u001b[0m\u001b[0;34m\u001b[0m\u001b[0m\n\u001b[1;32m    859\u001b[0m             \u001b[0mself\u001b[0m\u001b[0;34m.\u001b[0m\u001b[0m_parent_header\u001b[0m\u001b[0;34m,\u001b[0m\u001b[0;34m\u001b[0m\u001b[0;34m\u001b[0m\u001b[0m\n\u001b[0;32m--> 860\u001b[0;31m             \u001b[0mpassword\u001b[0m\u001b[0;34m=\u001b[0m\u001b[0;32mFalse\u001b[0m\u001b[0;34m,\u001b[0m\u001b[0;34m\u001b[0m\u001b[0;34m\u001b[0m\u001b[0m\n\u001b[0m\u001b[1;32m    861\u001b[0m         )\n\u001b[1;32m    862\u001b[0m \u001b[0;34m\u001b[0m\u001b[0m\n",
      "\u001b[0;32m/usr/local/Cellar/ipython/7.8.0/libexec/vendor/lib/python3.7/site-packages/ipykernel/kernelbase.py\u001b[0m in \u001b[0;36m_input_request\u001b[0;34m(self, prompt, ident, parent, password)\u001b[0m\n\u001b[1;32m    888\u001b[0m             \u001b[0;32mexcept\u001b[0m \u001b[0mKeyboardInterrupt\u001b[0m\u001b[0;34m:\u001b[0m\u001b[0;34m\u001b[0m\u001b[0;34m\u001b[0m\u001b[0m\n\u001b[1;32m    889\u001b[0m                 \u001b[0;31m# re-raise KeyboardInterrupt, to truncate traceback\u001b[0m\u001b[0;34m\u001b[0m\u001b[0;34m\u001b[0m\u001b[0;34m\u001b[0m\u001b[0m\n\u001b[0;32m--> 890\u001b[0;31m                 \u001b[0;32mraise\u001b[0m \u001b[0mKeyboardInterrupt\u001b[0m\u001b[0;34m\u001b[0m\u001b[0;34m\u001b[0m\u001b[0m\n\u001b[0m\u001b[1;32m    891\u001b[0m             \u001b[0;32melse\u001b[0m\u001b[0;34m:\u001b[0m\u001b[0;34m\u001b[0m\u001b[0;34m\u001b[0m\u001b[0m\n\u001b[1;32m    892\u001b[0m                 \u001b[0;32mbreak\u001b[0m\u001b[0;34m\u001b[0m\u001b[0;34m\u001b[0m\u001b[0m\n",
      "\u001b[0;31mKeyboardInterrupt\u001b[0m: "
     ]
    }
   ],
   "source": [
    "hand_player=[9,'A']\n",
    "def change_A(hand_player):\n",
    "    print(f\"You have  an As in your hand {hand_player}.\")\n",
    "    if hand_player[0]=='A':\n",
    "        exit = True\n",
    "        while exit==True:\n",
    "                number=input(\"You have an As. Do you want the As to be value as 1 or 11? Insert value 1 or 11:  \")\n",
    "                if re.match(\"[1-11]\",number) is not None:\n",
    "                    hand_player[0]= int(number)\n",
    "                    return hand_player[0],hand_player[1]\n",
    "                    \n",
    "                else:\n",
    "                    print(\"Sorry, you put an incorrect aspect for As. You are out of the game.\")\n",
    "                    exit = False\n",
    "                    return 'error'\n",
    "    if hand_player[1]=='A':\n",
    "            exit = True\n",
    "            while exit==True:\n",
    "                number=input(\"You have an As. Do you want the As to be value as 1 or 11? Insert value 1 or 11:  \")\n",
    "                if re.match(\"[1-11]\",number) is not None:\n",
    "                    hand_player[0]= int(number)\n",
    "                    return hand_player[0],hand_player[1]\n",
    "                    \n",
    "                else:\n",
    "                    print(\"Sorry, you put an incorrect aspect for As. You are out of the game.\")\n",
    "                    exit = False\n",
    "                    return 'error'\n",
    "    else:\n",
    "            print(\"Sorry, you put an incorrect aspect for As. You are out of the game.\")\n",
    "            return 'error'\n",
    "            exit = False   \n",
    "                   \n",
    "print(change_A(hand_player))"
   ]
  },
  {
   "cell_type": "code",
   "execution_count": 8,
   "metadata": {},
   "outputs": [
    {
     "name": "stdout",
     "output_type": "stream",
     "text": [
      "You earn 10. Do you want to keep playing? Answers with Yes or No.\n",
      "You must answer with Yes or No, if you want to play or not.   r\n",
      "You must answer with Yes or No, if you want to play or not.   3\n",
      "You must answer with Yes or No, if you want to play or not.   No\n"
     ]
    }
   ],
   "source": [
    "money=10\n",
    "playing=input(f\"You earn {money}. Do you want to keep playing? Answers with Yes or No.\"     )\n",
    "while playing !=\"Yes\" and playing!=\"No\":\n",
    "        playing=input(\"You must answer with Yes or No, if you want to play or not.   \")\n"
   ]
  },
  {
   "cell_type": "code",
   "execution_count": null,
   "metadata": {},
   "outputs": [],
   "source": []
  }
 ],
 "metadata": {
  "kernelspec": {
   "display_name": "Python 3",
   "language": "python",
   "name": "python3"
  },
  "language_info": {
   "codemirror_mode": {
    "name": "ipython",
    "version": 3
   },
   "file_extension": ".py",
   "mimetype": "text/x-python",
   "name": "python",
   "nbconvert_exporter": "python",
   "pygments_lexer": "ipython3",
   "version": "3.7.4"
  }
 },
 "nbformat": 4,
 "nbformat_minor": 2
}
